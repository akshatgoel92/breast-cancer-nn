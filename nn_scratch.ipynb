{
 "cells": [
  {
   "cell_type": "code",
   "execution_count": 2,
   "metadata": {
    "collapsed": true
   },
   "outputs": [],
   "source": [
    "# Import libraries\n",
    "import numpy as np\n",
    "import pandas as pd \n",
    "import matplotlib.pyplot as plt \n",
    "from sklearn.datasets import load_breast_cancer\n",
    "from sklearn.model_selection import train_test_split"
   ]
  },
  {
   "cell_type": "code",
   "execution_count": 3,
   "metadata": {
    "collapsed": true
   },
   "outputs": [],
   "source": [
    "# Set random seed\n",
    "np.random.seed(401293)"
   ]
  },
  {
   "cell_type": "code",
   "execution_count": 4,
   "metadata": {},
   "outputs": [
    {
     "name": "stdout",
     "output_type": "stream",
     "text": [
      "(426, 30)\n",
      "(426, 1)\n"
     ]
    }
   ],
   "source": [
    "def load_data()\n",
    "    \n",
    "    # Load data\n",
    "    data = load_breast_cancer()\n",
    "    \n",
    "    # Divide into train and test data \n",
    "    X = data['data']\n",
    "    y = data['target'].reshape(data['target'].shape[0], 1)\n",
    "    X_train, X_test, y_train, y_test = train_test_split(X, y)\n",
    "\n",
    "    # Print shapes as a sanity check\n",
    "    print(X_train.shape)\n",
    "    print(y_train.shape)\n",
    "    \n",
    "    return(X_train, X_test, y_train, y_test)"
   ]
  },
  {
   "cell_type": "code",
   "execution_count": 5,
   "metadata": {
    "collapsed": true
   },
   "outputs": [],
   "source": [
    "# Initialization \n",
    "def initialize_parameters(n_x, L, layers_dims):\n",
    "       \n",
    "    # Store the parameter values here\n",
    "    parameters = {}\n",
    "    \n",
    "    # Initialize the  \n",
    "    X_dim_prev = n_x \n",
    "    \n",
    "    # Randomly initialize each layer\n",
    "    for l in range(L):\n",
    "        \n",
    "        parameters[\"W\" + str(l+1)] = np.random.randn(layers_dims[l], X_dim_prev)*0.01\n",
    "        parameters[\"b\" + str(l+1)] = np.zeros((layers_dims[l], 1))\n",
    "        X_dim_prev = layers_dims[l]\n",
    "    \n",
    "    # Return parameters\n",
    "    return(parameters)"
   ]
  },
  {
   "cell_type": "code",
   "execution_count": 6,
   "metadata": {
    "collapsed": true
   },
   "outputs": [],
   "source": [
    "# Forward propogation\n",
    "def forward_propagation(X, L, parameters):\n",
    "    \n",
    "    # We'll store Z and A values here\n",
    "    Z = {}\n",
    "    A = {}\n",
    "    A[\"A0\"] = X\n",
    "    A_prev = X\n",
    "    \n",
    "    # Loop through each layer\n",
    "    for l in range(L): \n",
    "        \n",
    "        # Store the values we need cleanly\n",
    "        W_l = parameters[\"W\" + str(l+1)]\n",
    "        b_l = parameters[\"b\" + str(l+1)]\n",
    "        \n",
    "        # Send these values through the linear function\n",
    "        Z[\"Z\" + str(l+1)] = np.dot(W_l, A_prev) + b_l \n",
    "        \n",
    "        # Send the values to the sigmoid function\n",
    "        A[\"A\" + str(l+1)] = sigmoid(Z[\"Z\" + str(l+1)])\n",
    "        \n",
    "        # Update the layer\n",
    "        A_prev = A[\"A\" + str(l+1)]\n",
    "        \n",
    "    # Return statement\n",
    "    return(A, Z)"
   ]
  },
  {
   "cell_type": "code",
   "execution_count": 7,
   "metadata": {
    "collapsed": true
   },
   "outputs": [],
   "source": [
    "# Compute cost\n",
    "def compute_cost(AL, Y, m):\n",
    "    \n",
    "    # Compute the cost\n",
    "    cost = (-1/m) * np.sum(Y * np.log(AL) + (1-Y) * np.log(1-AL))\n",
    "    \n",
    "    # Return statement\n",
    "    return(cost)"
   ]
  },
  {
   "cell_type": "code",
   "execution_count": 8,
   "metadata": {
    "collapsed": true
   },
   "outputs": [],
   "source": [
    "# Backward propogation    \n",
    "def backward_propogation(L, m, A, AL, Y, Z, parameters):\n",
    "    \n",
    "    # Store the gradients here\n",
    "    grads = {}\n",
    "    \n",
    "    # Initial values for output layer\n",
    "    grads[\"dA\" + str(L)] = - (np.divide(Y, AL) - np.divide(1 - Y, 1 - AL))\n",
    "    grads[\"dZ\" + str(L)] = grads[\"dA\" + str(L)] * sigmoid_prime(Z[\"Z\" + str(L)])\n",
    "    grads[\"dW\" + str(L)] = 1/m * np.dot(grads[\"dZ\" + str(L)], A[\"A\" + str(L-1)].T)\n",
    "    grads[\"db\" + str(L)] = 1/m * np.sum(grads[\"dZ\" + str(L)], axis = 1, keepdims = True)\n",
    "    \n",
    "    # Now send the values backwards through the net\n",
    "    for l in reversed(range(1, L)):\n",
    "        \n",
    "        # Helper calculations\n",
    "        first_term = np.dot(parameters[\"W\" + str(l+1)].T, grads[\"dZ\" + str(l+1)])\n",
    "        second_term = sigmoid_prime(Z[\"Z\" + str(l)])\n",
    "        \n",
    "        # Gradient calculations\n",
    "        grads[\"dZ\" + str(l)] = first_term*second_term\n",
    "        grads[\"dW\" + str(l)] = 1/m * np.dot(grads[\"dZ\" + str(l)], A[\"A\" + str(l-1)].T)\n",
    "        grads[\"db\" + str(l)] = 1/m * np.sum(grads[\"dZ\" + str(l)], axis = 1, keepdims = True)\n",
    "        \n",
    "    # Return statement\n",
    "    return(grads)"
   ]
  },
  {
   "cell_type": "code",
   "execution_count": 9,
   "metadata": {
    "collapsed": true
   },
   "outputs": [],
   "source": [
    "# Update parameters    \n",
    "def update_parameters(L, parameters, grads, learning_rate):\n",
    "    \n",
    "    for l in range(L): \n",
    "        \n",
    "        parameters[\"W\" + str(l+1)] = parameters[\"W\" + str(l+1)] - (learning_rate*grads[\"dW\" + str(l+1)])\n",
    "        parameters[\"b\" + str(l+1)] = parameters[\"b\" + str(l+1)] - (learning_rate*grads[\"db\" + str(l+1)])\n",
    "     \n",
    "    # Update rule\n",
    "    return(parameters)"
   ]
  },
  {
   "cell_type": "code",
   "execution_count": 10,
   "metadata": {
    "collapsed": true
   },
   "outputs": [],
   "source": [
    "# Activation function\n",
    "def sigmoid(Z): \n",
    "    \n",
    "    # Activate each unit of Z\n",
    "    return 1.0/(1.0 + np.exp(-Z))"
   ]
  },
  {
   "cell_type": "code",
   "execution_count": 11,
   "metadata": {
    "collapsed": true
   },
   "outputs": [],
   "source": [
    "# Derivative of activation function w.r.t Z\n",
    "def sigmoid_prime(Z):\n",
    "    \n",
    "    # Store function value\n",
    "    sig = sigmoid(Z)\n",
    "    \n",
    "    # Return slope of sigmoid at Z\n",
    "    return (sig) *(1.0 - sig)"
   ]
  },
  {
   "cell_type": "code",
   "execution_count": 12,
   "metadata": {
    "collapsed": true
   },
   "outputs": [],
   "source": [
    "# Calculate no. of successes in prediction\n",
    "def calculate_binary_accuracy(AL, Y):\n",
    "\n",
    "    # Turn probabilities into predictions\n",
    "    predictions = (AL > 0.5).astype(int)\n",
    "    \n",
    "    # Total examples\n",
    "    total = Y.shape[1]\n",
    "    \n",
    "    # Compare predictions to training set\n",
    "    correct = np.sum((predictions == Y).astype(int))\n",
    "    \n",
    "    # Return accuracy\n",
    "    return(correct/total)"
   ]
  },
  {
   "cell_type": "code",
   "execution_count": 13,
   "metadata": {
    "collapsed": true
   },
   "outputs": [],
   "source": [
    "# Calculate accuracy on test set\n",
    "def calculate_test_accuracy(X_test, Y_test, L, parameters):\n",
    "    \n",
    "    # Send the test data through the net\n",
    "    A, Z = forward_propagation(X_test, L, parameters)\n",
    "    \n",
    "    # Calculate the last layer's activations\n",
    "    AL = A[\"A\" + str(L)]\n",
    "    \n",
    "    # Calculate the accuracy w.r.t. test data\n",
    "    test_accuracy = calculate_binary_accuracy(AL, Y_test)\n",
    "    \n",
    "    # Return statement\n",
    "    return(test_accuracy)"
   ]
  },
  {
   "cell_type": "code",
   "execution_count": 14,
   "metadata": {
    "collapsed": true
   },
   "outputs": [],
   "source": [
    "# Model implementation \n",
    "def nn_model(X, Y, X_test, Y_test, layers_dims, learning_rate, num_iterations):\n",
    "    \n",
    "    # Get NN architecture hyper-parameters\n",
    "    n_x = X.shape[0]\n",
    "    m = X.shape[1]\n",
    "    L = len(layers_dims)\n",
    "    \n",
    "    # Set parameters \n",
    "    parameters = initialize_parameters(n_x, L, layers_dims)\n",
    "    \n",
    "    # Execute the model\n",
    "    for iteration in range(1, num_iterations + 1):\n",
    "        \n",
    "        # Send data through the net\n",
    "        A, Z = forward_propagation(X, L, parameters)\n",
    "        \n",
    "        # Store predictions from this forward pass\n",
    "        AL = A[\"A\" + str(L)]\n",
    "                \n",
    "        # Calculate training set accuracy\n",
    "        training_accuracy = calculate_binary_accuracy(AL, Y)\n",
    "        \n",
    "        # Calculate the test set accuracy\n",
    "        testing_accuracy = calculate_test_accuracy(X_test, Y_test, L, parameters)\n",
    "        \n",
    "        # Compute costs \n",
    "        cost = compute_cost(AL, Y, m)\n",
    "        \n",
    "        # Compute gradients\n",
    "        grads = backward_propogation(L, m, A, AL, Y, Z, parameters) \n",
    "        \n",
    "        # Update the parameters for the next iteration\n",
    "        parameters = update_parameters(L, parameters, grads, learning_rate)\n",
    "        \n",
    "        # Print progress every 1000 steps\n",
    "        if iteration % 1000 == 0:\n",
    "            \n",
    "            placeholder = \"Iteration: {}, Cost: {}, Training accuracy: {}, Testing accuracy: {}\"\n",
    "            print(placeholder.format(iteration, cost, training_accuracy, testing_accuracy), end = '\\r')\n",
    "        \n",
    "        # Next step\n",
    "        iteration +=1\n",
    "     \n",
    "    # Generate predictions once this is done\n",
    "    predictions = (AL > 0.5).astype(int)\n",
    "    \n",
    "    # Return statement\n",
    "    return(cost, predictions, parameters, training_accuracy, testing_accuracy)"
   ]
  },
  {
   "cell_type": "code",
   "execution_count": 15,
   "metadata": {},
   "outputs": [
    {
     "name": "stdout",
     "output_type": "stream",
     "text": [
      "Iteration: 200000, Cost: 0.11962863152537266, Training accuracy: 0.9483568075117371, Testing accuracy: 0.916083916083916\r"
     ]
    }
   ],
   "source": [
    "# Test architectures\n",
    "arch1 = [30, 1]\n",
    "# Load data\n",
    "X_train, y_train, X_test, y_test = load_data()\n",
    "# Test call\n",
    "test1 = nn_model(X_train.T, y_train.T, X_test.T, y_test.T, arch1, .0005, 200000)"
   ]
  }
 ],
 "metadata": {
  "kernelspec": {
   "display_name": "Python 3",
   "language": "python",
   "name": "python3"
  },
  "language_info": {
   "codemirror_mode": {
    "name": "ipython",
    "version": 3
   },
   "file_extension": ".py",
   "mimetype": "text/x-python",
   "name": "python",
   "nbconvert_exporter": "python",
   "pygments_lexer": "ipython3",
   "version": "3.6.8"
  }
 },
 "nbformat": 4,
 "nbformat_minor": 2
}
